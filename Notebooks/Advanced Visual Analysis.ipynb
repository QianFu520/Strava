{
 "cells": [
  {
   "cell_type": "markdown",
   "id": "a7c40b52",
   "metadata": {},
   "source": [
    " In this notebook, you can demonstrate your understanding of at least one advanced visual analysis technique (e.g., treemaps, heatmaps, or any other non-basic plot) that is appropriate for your data analysis. You can explain how this advanced plot provides additional insights or complements the findings from the basic visual analysis."
   ]
  },
  {
   "cell_type": "markdown",
   "id": "5f1c10eb",
   "metadata": {},
   "source": [
    "# Rule Adherence:"
   ]
  },
  {
   "cell_type": "markdown",
   "id": "44bc5028",
   "metadata": {},
   "source": [
    "-Rule 1: The code for generating the advanced visualization (e.g., treemaps) is documented in Section C.\n",
    "\n",
    "-Rule 8: We have provided hierarchical analysis output for the advanced visualization, allowing readers to inspect different layers of detail (see Section D).\n"
   ]
  },
  {
   "cell_type": "code",
   "execution_count": null,
   "id": "b101b075",
   "metadata": {},
   "outputs": [],
   "source": []
  }
 ],
 "metadata": {
  "kernelspec": {
   "display_name": "Python (dojo-env)",
   "language": "python",
   "name": "dojo-env"
  },
  "language_info": {
   "codemirror_mode": {
    "name": "ipython",
    "version": 3
   },
   "file_extension": ".py",
   "mimetype": "text/x-python",
   "name": "python",
   "nbconvert_exporter": "python",
   "pygments_lexer": "ipython3",
   "version": "3.8.13"
  },
  "toc": {
   "base_numbering": 1,
   "nav_menu": {},
   "number_sections": false,
   "sideBar": true,
   "skip_h1_title": false,
   "title_cell": "Table of Contents",
   "title_sidebar": "Contents",
   "toc_cell": false,
   "toc_position": {},
   "toc_section_display": true,
   "toc_window_display": false
  }
 },
 "nbformat": 4,
 "nbformat_minor": 5
}
