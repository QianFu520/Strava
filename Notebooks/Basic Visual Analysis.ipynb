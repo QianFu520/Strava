{
 "cells": [
  {
   "cell_type": "markdown",
   "id": "7d643e76",
   "metadata": {},
   "source": [
    "In this notebook, you can focus on conducting basic visual analysis techniques (scatter plots, box plots, histograms, etc.) on various columns to explore relationships and patterns in the data."
   ]
  },
  {
   "cell_type": "markdown",
   "id": "f07d48a5",
   "metadata": {},
   "source": [
    "# Rule Adherence:"
   ]
  },
  {
   "cell_type": "markdown",
   "id": "061254f9",
   "metadata": {},
   "source": [
    "-Rule 1: We have documented the code used to generate all basic visualizations (scatter plots, box plots, etc.) in this notebook (see Section A).\n",
    "\n",
    "-Rule 7: The raw data behind each visualization is provided in Section B, allowing readers to reproduce the plots.\n"
   ]
  },
  {
   "cell_type": "code",
   "execution_count": null,
   "id": "580539f2",
   "metadata": {},
   "outputs": [],
   "source": []
  }
 ],
 "metadata": {
  "kernelspec": {
   "display_name": "Python (dojo-env)",
   "language": "python",
   "name": "dojo-env"
  },
  "language_info": {
   "codemirror_mode": {
    "name": "ipython",
    "version": 3
   },
   "file_extension": ".py",
   "mimetype": "text/x-python",
   "name": "python",
   "nbconvert_exporter": "python",
   "pygments_lexer": "ipython3",
   "version": "3.8.13"
  },
  "toc": {
   "base_numbering": 1,
   "nav_menu": {},
   "number_sections": false,
   "sideBar": true,
   "skip_h1_title": false,
   "title_cell": "Table of Contents",
   "title_sidebar": "Contents",
   "toc_cell": false,
   "toc_position": {},
   "toc_section_display": true,
   "toc_window_display": false
  }
 },
 "nbformat": 4,
 "nbformat_minor": 5
}
